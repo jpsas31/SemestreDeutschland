{
 "cells": [
  {
   "cell_type": "markdown",
   "metadata": {},
   "source": [
    "# Experimenting with PyTorch"
   ]
  },
  {
   "cell_type": "markdown",
   "metadata": {},
   "source": [
    "For using PyTorch you can either use your own Computer or [Google Colab](https://colab.research.google.com/).\n",
    "\n",
    "You need to install the [PyTorch](https://pytorch.org/) package which comes with some extra dependencies.\n",
    "\n",
    "Install the following packages for this notebook:\n",
    "- **PyTorch**\n",
    "- **torchvision**\n",
    "- **tqdm**\n",
    "- **matplotlib**\n",
    "\n",
    "If your computer is equpped with a GPU you can also install the GPU version of PyTorch. Otherwise install the CPU version, which is smaller in size and enough for the tasks of this practical.\n",
    "\n",
    "For using the GPU version you need to fullfill some prerequisites first, which are a little time consuming.\n",
    "- Make sure that your graphics card is new enough to handle the PyTorch environment. This can be checked by searching for the compute capability of your GPU and the compute capability requirements from the PyTorch module\n",
    "- Install the latest NVIDIA driver\n",
    "- Install suitable CUDA version\n",
    "- Install CudNN\n",
    "- Install PyTorch after all previous successful steps\n",
    "\n",
    "\n",
    "Using Google Colab should avoid installing the above mentioned prerequisites."
   ]
  },
  {
   "cell_type": "markdown",
   "metadata": {},
   "source": [
    "## PyTorch Operations"
   ]
  },
  {
   "cell_type": "code",
   "execution_count": 26,
   "metadata": {},
   "outputs": [
    {
     "name": "stdout",
     "output_type": "stream",
     "text": [
      "torch.float32 cpu torch.Size([6, 1])\n"
     ]
    }
   ],
   "source": [
    "import torch\n",
    "import torch.nn as nn\n",
    "import torchvision\n",
    "nn.Module\n",
    "# Tensors\n",
    "\n",
    "# Initialize a 1d torch tensor of size (6, 1) and name it 'data'. Initialize the tensor as random normal distribution\n",
    "\n",
    "# Code here\n",
    "\n",
    "data = torch.rand(size=(6,1))\n",
    "\n",
    "# Convert the torch tensor to a numpy array and convert it back afterwards. Keep the variable naming and just override the variable every time\n",
    "\n",
    "# Code here\n",
    "\n",
    "data = data.numpy()\n",
    "data = torch.from_numpy(data)\n",
    "\n",
    "\n",
    "# Tensors have a shape, a data type and are executed on some device on your computer. Find the mentioned tensor attributes and print them.\n",
    "\n",
    "# Code here\n",
    "\n",
    "print(data.dtype, data.device, data.shape)\n",
    "\n",
    "\n",
    "\n",
    "# Slicing works the same as with numpy arrays. No need to learn a new syntax here :)\n",
    "# Try some slicing methods (i. e. the slicing methods we discussed in the first practical)\n",
    "\n",
    "# Code here\n",
    "slice1=data[0:5] #from 0 to 4\n",
    "slice2=data[-1] #last element\n",
    "slice3=data[1::2] #even rows\n",
    "\n",
    "\n",
    "###\n",
    "# Arithmetic operations\n",
    "###\n",
    "\n",
    "# Perform a matrix multiplication with two random tensors of different shape. The value initialization is of your choice.\n",
    "\n",
    "# Code here\n",
    "\n",
    "t1 = torch.rand(size=(6,4))\n",
    "t2 = torch.rand(size=(4,10))\n",
    "mult = torch.matmul(t1,t2)\n",
    "\n",
    "# Perform the hadamard (element-wise) product with two random initialized tensors.\n",
    "\n",
    "# Code here\n",
    "t1 = torch.rand(size=(6,4))\n",
    "t2 = torch.rand(size=(6,4))\n",
    "\n",
    "elementMult = torch.multiply(t1,t2)\n",
    "\n",
    "# For more useful tensor operations, plese check out their website: https://pytorch.org/tutorials/beginner/basics/tensorqs_tutorial.html"
   ]
  },
  {
   "cell_type": "markdown",
   "metadata": {},
   "source": [
    "## PyTorch Sequential and Layers"
   ]
  },
  {
   "cell_type": "code",
   "execution_count": 27,
   "metadata": {},
   "outputs": [
    {
     "name": "stdout",
     "output_type": "stream",
     "text": [
      "<bound method Module.state_dict of Linear(in_features=16, out_features=32, bias=True)>\n",
      "weights [Parameter containing:\n",
      "tensor([[-1.6480e-01, -4.2918e-02,  1.2605e-02, -1.8626e-01,  2.4480e-01,\n",
      "         -1.8390e-01,  1.4584e-01,  1.6494e-01,  1.4394e-01,  6.2944e-02,\n",
      "         -1.4586e-01,  2.0242e-01,  1.6790e-01, -4.1250e-02,  1.6153e-01,\n",
      "          1.6286e-01],\n",
      "        [-2.3273e-01,  2.4654e-01,  8.7334e-02, -7.6459e-02,  5.8986e-02,\n",
      "         -1.0791e-01, -2.1631e-01,  3.2802e-02, -4.9898e-02,  1.3867e-01,\n",
      "          1.2174e-01, -1.4097e-01, -2.4571e-01,  1.7453e-01,  1.2938e-01,\n",
      "         -1.6803e-01],\n",
      "        [ 8.1402e-02,  1.3603e-01,  3.4923e-02, -2.2528e-01, -1.9729e-01,\n",
      "          2.3605e-01, -1.2550e-01, -2.3833e-01, -7.5674e-02, -1.5965e-01,\n",
      "         -1.6388e-01, -1.1516e-01,  1.6949e-04,  1.2037e-01, -2.3688e-01,\n",
      "          2.7784e-02],\n",
      "        [-4.4151e-02, -1.6873e-02,  2.3798e-01,  1.2627e-01,  1.6897e-01,\n",
      "         -2.3161e-01, -1.4206e-01, -1.1978e-01, -8.4663e-02, -7.0505e-02,\n",
      "         -5.1861e-02, -8.8145e-02, -2.4850e-01,  4.8749e-02,  2.0620e-01,\n",
      "         -7.7115e-03],\n",
      "        [-1.4269e-01, -3.1993e-02,  2.4327e-01,  2.3741e-01,  3.2472e-02,\n",
      "         -1.3866e-01, -1.3373e-01, -1.5690e-01, -2.1200e-02, -1.9829e-01,\n",
      "         -2.0738e-01,  2.2113e-01, -6.6845e-02, -1.2021e-01, -1.3215e-01,\n",
      "          1.4563e-02],\n",
      "        [-3.9956e-02,  1.8014e-01,  4.4451e-02,  1.8049e-01, -4.9694e-02,\n",
      "          1.9084e-01,  1.3720e-01,  1.6776e-01,  7.5088e-02,  1.0015e-01,\n",
      "         -1.9512e-01,  8.1562e-02, -1.4402e-01,  2.0820e-02,  1.5838e-01,\n",
      "         -2.2733e-01],\n",
      "        [-2.3339e-01,  4.4684e-02,  2.4923e-01,  1.7204e-01,  1.8144e-01,\n",
      "         -1.5481e-01, -5.3655e-02,  2.7059e-02,  2.1243e-01, -1.2742e-01,\n",
      "         -2.2928e-01, -1.6462e-01, -8.0088e-02,  2.4713e-01, -8.4933e-02,\n",
      "          1.4376e-01],\n",
      "        [-8.7101e-02,  1.3227e-01, -2.4938e-01,  2.2003e-01,  3.6551e-02,\n",
      "          2.3569e-01, -5.9815e-02,  4.2856e-02,  4.6696e-02, -1.4167e-01,\n",
      "         -2.1968e-01,  2.7816e-02,  1.5969e-01, -1.8333e-01, -3.0703e-02,\n",
      "         -2.4022e-02],\n",
      "        [-1.6375e-01, -1.1198e-01, -1.1970e-01,  6.8222e-02,  2.1909e-01,\n",
      "         -1.4531e-01, -6.7434e-02,  1.5169e-01,  1.8721e-01,  1.0885e-01,\n",
      "         -1.2731e-01, -2.0506e-01,  6.9961e-02,  1.5837e-02, -2.1937e-01,\n",
      "         -2.3934e-01],\n",
      "        [ 2.3705e-01,  2.1304e-01, -2.4585e-01,  1.4232e-01,  1.5616e-01,\n",
      "          1.5285e-01, -8.8120e-02, -1.4147e-01,  6.5040e-02,  1.3877e-01,\n",
      "          7.6045e-02,  2.3802e-01, -1.0258e-01, -1.1581e-01,  2.9164e-02,\n",
      "         -7.6392e-02],\n",
      "        [ 1.5655e-01, -2.2409e-01, -2.4384e-01,  2.9746e-02, -2.1809e-02,\n",
      "         -1.9525e-01, -8.6242e-02, -2.7478e-02, -1.7469e-02, -2.6777e-02,\n",
      "         -1.0951e-01,  1.9239e-01, -3.4818e-02, -1.2501e-01,  1.8268e-01,\n",
      "         -3.8949e-02],\n",
      "        [-2.4402e-01, -2.1776e-01, -2.1061e-01, -1.9384e-02,  7.8699e-02,\n",
      "         -1.5166e-01, -2.1841e-01,  1.4744e-01,  1.5423e-01, -1.6663e-01,\n",
      "         -2.5062e-02, -1.4893e-01,  1.0904e-01,  1.4452e-01, -1.8627e-01,\n",
      "          2.1746e-01],\n",
      "        [ 9.9054e-02,  1.9175e-02,  7.9314e-02,  2.1165e-01, -3.1275e-02,\n",
      "         -8.4319e-02,  7.1725e-02,  2.1702e-01, -4.3795e-02,  1.8785e-01,\n",
      "          4.7117e-02,  2.3623e-01, -7.9886e-02,  1.0915e-01, -2.4613e-01,\n",
      "         -4.7759e-03],\n",
      "        [-2.4406e-01, -1.3768e-01,  1.1489e-01,  1.2041e-01, -2.0868e-01,\n",
      "         -2.2813e-02, -1.3899e-01,  1.8993e-01, -2.1429e-01,  9.1563e-02,\n",
      "         -1.7098e-01,  2.2166e-01, -2.0245e-01, -1.0203e-02,  1.1612e-01,\n",
      "         -1.1358e-01],\n",
      "        [ 8.0148e-02,  1.0067e-01, -2.2689e-02,  3.7655e-02,  2.0110e-01,\n",
      "         -1.3704e-01,  2.2128e-01,  9.1895e-02,  2.0613e-01, -9.7707e-02,\n",
      "         -5.5100e-02, -1.7829e-01, -1.5046e-01,  1.9413e-01, -4.9739e-02,\n",
      "          2.3709e-01],\n",
      "        [ 2.4908e-01, -2.3568e-02, -7.7663e-02,  9.0451e-02,  3.8203e-03,\n",
      "         -5.2787e-02,  2.3835e-01, -1.0228e-01,  7.2090e-02, -1.7264e-01,\n",
      "          2.2947e-01, -1.2148e-01,  8.3525e-02,  1.2078e-01,  2.1000e-01,\n",
      "          3.9636e-02],\n",
      "        [ 1.1484e-01,  2.3827e-01,  1.1239e-01, -1.5735e-01,  2.2163e-01,\n",
      "          1.9956e-01,  2.3582e-01, -1.1185e-01,  1.3246e-01,  1.3271e-01,\n",
      "         -6.8612e-02, -5.2232e-02,  2.4574e-01,  2.3593e-01,  1.7391e-01,\n",
      "          1.0730e-01],\n",
      "        [ 6.2462e-02, -8.6341e-02, -1.2300e-01, -1.8119e-01, -4.3168e-02,\n",
      "          2.2622e-02,  2.2572e-01, -2.2253e-02, -2.3424e-01, -2.4868e-01,\n",
      "         -2.1339e-01, -1.5077e-01, -1.5998e-01, -2.0868e-01,  1.5730e-01,\n",
      "         -2.2882e-01],\n",
      "        [-1.9841e-01,  6.3047e-02,  1.4546e-01, -2.4773e-01,  2.6576e-02,\n",
      "          1.9950e-01,  1.0716e-01, -1.1223e-01, -1.0294e-01, -8.1235e-03,\n",
      "          4.5146e-02, -1.6881e-01,  2.4966e-01, -3.1823e-03, -1.4570e-01,\n",
      "          2.2504e-01],\n",
      "        [-1.4730e-01, -1.7874e-01,  9.8198e-02, -6.5217e-02, -1.6093e-01,\n",
      "          1.2631e-01,  1.0112e-01,  2.6343e-02, -1.3391e-01, -3.8922e-04,\n",
      "         -1.4609e-01, -7.3508e-02,  1.9402e-01, -2.0715e-01,  1.3228e-02,\n",
      "          6.1203e-03],\n",
      "        [-2.2103e-01,  6.2573e-02, -1.3692e-01,  1.9120e-01,  2.4997e-01,\n",
      "         -2.4932e-01, -5.6037e-02, -6.2488e-02, -2.3278e-01, -1.2932e-01,\n",
      "          7.5137e-02,  1.4913e-01,  2.4579e-01, -1.7488e-01,  1.3869e-01,\n",
      "         -1.7202e-01],\n",
      "        [ 2.4581e-01, -1.8212e-01,  1.6970e-01,  5.5027e-02, -2.1692e-01,\n",
      "         -2.4070e-01,  1.5591e-02,  1.1101e-01,  2.1951e-01,  1.4879e-01,\n",
      "         -2.8150e-02, -2.3841e-01,  3.0536e-02, -1.1837e-01, -1.0937e-01,\n",
      "          2.0914e-01],\n",
      "        [-9.4440e-02,  1.4008e-01,  9.1094e-03,  2.3048e-01, -4.9876e-03,\n",
      "         -6.2753e-02,  2.4079e-01, -7.0084e-02,  6.4896e-02,  3.0675e-02,\n",
      "         -5.0932e-03,  2.8656e-02, -2.1642e-01, -1.4570e-01, -1.0420e-01,\n",
      "          2.1576e-02],\n",
      "        [ 1.6080e-01,  2.8791e-02,  7.7598e-02, -1.5597e-01, -2.2089e-01,\n",
      "         -1.2183e-01, -7.0151e-02,  2.3832e-01,  1.8489e-01, -1.3002e-01,\n",
      "          2.1223e-01,  1.3266e-01, -9.9828e-02,  2.4489e-01, -8.6436e-02,\n",
      "         -1.4749e-01],\n",
      "        [ 2.1558e-01,  1.6099e-01,  9.2380e-02, -2.6364e-03, -1.5200e-01,\n",
      "          2.4489e-02,  1.6270e-01,  2.1913e-01,  2.3978e-01, -1.6529e-01,\n",
      "         -2.2164e-01,  3.3723e-02, -1.5192e-01,  1.5376e-01, -1.6030e-01,\n",
      "         -7.5962e-03],\n",
      "        [ 2.2930e-01, -1.3279e-01, -1.9915e-01,  2.1778e-01,  2.2204e-02,\n",
      "         -1.6121e-02, -4.5805e-02,  6.9001e-02,  1.1383e-01,  8.9971e-03,\n",
      "          2.4287e-01, -1.6981e-01, -2.2233e-01, -1.1033e-01, -2.0596e-01,\n",
      "          8.0872e-02],\n",
      "        [-6.1913e-02, -1.5650e-01,  1.6053e-01,  4.6700e-02, -1.5199e-01,\n",
      "          1.5143e-01, -7.9721e-02,  1.6695e-01,  2.0243e-01,  2.7170e-03,\n",
      "         -1.7984e-01,  1.3722e-01,  5.0078e-02,  6.9411e-03,  1.9425e-01,\n",
      "          2.8592e-02],\n",
      "        [-2.4928e-01, -1.2096e-01, -2.1048e-01,  2.3413e-01,  1.3008e-01,\n",
      "         -2.3313e-01, -2.1593e-01,  2.2995e-01, -2.4213e-01, -2.3854e-01,\n",
      "         -1.1725e-01,  8.4179e-02,  1.3293e-01, -1.1084e-01,  1.8234e-01,\n",
      "         -1.4624e-02],\n",
      "        [ 6.9579e-02,  1.0631e-01,  1.9538e-01, -1.4424e-01, -1.1158e-01,\n",
      "          6.6897e-02, -1.2970e-01,  5.3615e-02, -1.4199e-01, -7.0612e-02,\n",
      "          2.4374e-01, -7.5438e-02,  3.3122e-02, -1.7227e-01,  1.4210e-02,\n",
      "         -3.8669e-02],\n",
      "        [-1.5532e-01, -2.4950e-01,  2.2626e-01, -1.9516e-01, -1.4399e-01,\n",
      "         -2.7176e-02,  2.4901e-01, -2.1920e-01, -7.3258e-02,  1.3093e-01,\n",
      "         -1.9390e-01, -2.0387e-01, -1.6732e-01, -7.1619e-02,  9.6853e-02,\n",
      "         -7.5862e-03],\n",
      "        [-1.8009e-01, -8.3519e-02, -1.3522e-02, -3.2307e-03, -7.3655e-02,\n",
      "          1.5019e-01,  1.8810e-01,  1.0973e-01, -1.4894e-02, -5.1215e-02,\n",
      "          9.7807e-02,  2.0695e-01, -1.6974e-01, -1.1703e-01, -6.5405e-03,\n",
      "         -3.0750e-02],\n",
      "        [-2.0286e-01, -6.3045e-02, -1.3407e-01,  2.3625e-01,  5.0083e-02,\n",
      "          1.8028e-01, -1.7711e-01, -1.3118e-01, -2.2313e-01,  7.6944e-02,\n",
      "          2.1256e-01, -1.7474e-01,  1.9682e-01,  3.2954e-02, -1.1665e-01,\n",
      "         -2.2023e-01]], requires_grad=True), Parameter containing:\n",
      "tensor([ 0.1045,  0.1922, -0.1990,  0.1751,  0.2067, -0.0193,  0.1634,  0.1493,\n",
      "        -0.1733,  0.0980,  0.2238, -0.2353, -0.0126, -0.1421,  0.0562, -0.2135,\n",
      "        -0.0786, -0.0156,  0.1217, -0.1836,  0.0964, -0.1509, -0.1127,  0.1384,\n",
      "         0.2306,  0.1158, -0.1420, -0.0173, -0.0998,  0.0549,  0.1772, -0.2421],\n",
      "       requires_grad=True)]\n",
      "tensor([[ 0.6554,  0.1821, -0.9446,  0.1816,  0.2422,  0.4963,  0.3856,  0.1362,\n",
      "         -0.2593,  0.5182, -0.0120, -0.6699,  0.7326, -0.0574,  0.3546, -0.1544,\n",
      "          0.6187, -0.7759,  0.0141, -0.4760,  0.3129, -0.3689,  0.1881,  0.0155,\n",
      "          0.3185, -0.0650,  0.0145, -0.0835, -0.3934, -0.4058,  0.3421, -0.3736],\n",
      "        [ 0.5410,  0.0304, -0.8453,  0.1491, -0.3148,  0.3037,  0.2425, -0.0087,\n",
      "         -0.4352,  0.1904,  0.1583, -0.4781,  0.2547, -0.4423,  0.6272,  0.5083,\n",
      "          0.7384, -0.3290, -0.0373, -0.4482, -0.0181,  0.0071, -0.1745,  0.3459,\n",
      "          0.5313,  0.1303,  0.0996, -0.1076, -0.2365, -0.3265,  0.1364, -0.6396]],\n",
      "       grad_fn=<AddmmBackward0>) torch.Size([2, 32])\n"
     ]
    }
   ],
   "source": [
    "# We now build our first neural network layers and combine them into one model\n",
    "\n",
    "# First lets define an example Linear layer.\n",
    "# Initialize a Linear layer from PyTorch of dimension (in_features=16, out_features=32).\n",
    "\n",
    "# Code here\n",
    "\n",
    "linearLayer = nn.Linear(in_features=16, out_features=32)\n",
    "\n",
    "\n",
    "# Print the layer attributes and print the weight of the Linear layer\n",
    "# Forward a fitting random initialized 2d tensor through the layer and print the result\n",
    "# What is the shape of the passed (forwarded) random tensor?\n",
    "\n",
    "# Code here\n",
    "\n",
    "##attributes\n",
    "print(linearLayer.state_dict)\n",
    "##Weights\n",
    "print('weights', list(linearLayer.parameters()))\n",
    "##passs random 2d tensor through the linear layer\n",
    "result= linearLayer(torch.rand(size=(2,16)))\n",
    "\n",
    "print(result, result.shape)\n",
    "\n",
    "\n",
    "# Why does it work to just call an initialized layer by initialized_layer(input)?\n",
    "# Check the source code for the Linear Layer and its parent 'Module' class here: https://pytorch.org/docs/stable/_modules/torch/nn/modules/linear.html#Linear\n",
    "# Explain in your own words why the forward function of the 'Linear' class is automatically called when passing an input through the layer, i. e. initialized_layer(input)\n",
    "# Hint: Check out the class inheritance!\n",
    "\n",
    "# Your explanation here\n",
    "\n",
    "# This works because in the Module class, which is the parent class to every layer defined in pytorch, \n",
    "# define the special python method __call__ which enables class instances to behave like functions and \n",
    "# can be called like a function. In this case it is defined to call de forward method\n",
    "\n",
    "\n",
    "# Build a sequential model with some linear layers stacked after each other. The number of layers is your choice, but be careful because it could cost a lot of time\n",
    "# to pass data through the sequential model afterwards. Start e. g. with three linear layers :)\n",
    "# You are not restricted to linear layers. Experiment a little bit here!\n",
    "\n",
    "# Code here\n",
    "model = nn.Sequential(\n",
    "    nn.Linear(784, 32),  # input layer (do not change the in_features size of this layer - we need it later)\n",
    "    # your layers\n",
    "    nn.LeakyReLU(),\n",
    "    nn.Linear(32, 32), \n",
    "    nn.LeakyReLU(),\n",
    "    nn.Linear(32, 10), \n",
    "    nn.LeakyReLU(),\n",
    "    nn.Linear(10,10),  # you can change the in_features of this layer but let the out_features at size 10 here - we need it layer\n",
    "    nn.Softmax(dim=-1)\n",
    "\n",
    ")\n",
    "\n"
   ]
  },
  {
   "cell_type": "markdown",
   "metadata": {},
   "source": [
    "## PyTorch Forward Pass"
   ]
  },
  {
   "cell_type": "code",
   "execution_count": 28,
   "metadata": {},
   "outputs": [
    {
     "name": "stdout",
     "output_type": "stream",
     "text": [
      "torch.Size([5, 784])\n"
     ]
    },
    {
     "data": {
      "text/plain": [
       "<matplotlib.image.AxesImage at 0x7f664a8c8eb0>"
      ]
     },
     "execution_count": 28,
     "metadata": {},
     "output_type": "execute_result"
    },
    {
     "data": {
      "image/png": "[encoded data removed]",
      "text/plain": [
       "<Figure size 640x480 with 1 Axes>"
      ]
     },
     "metadata": {},
     "output_type": "display_data"
    }
   ],
   "source": [
    "# We initialized our model in the previous section\n",
    "# Lets now also use the model to pass data through it\n",
    "\n",
    "# Use the following tensor and pass it through your model from above\n",
    "# You have to 'reformat' the tensor first\n",
    "\n",
    "# Code here\n",
    "\n",
    "from turtle import forward\n",
    "\n",
    "\n",
    "data = torch.randn(size=(5, 1, 28, 28))\n",
    "data = data.squeeze().flatten(start_dim=1, end_dim=2)\n",
    "print(data.shape)\n",
    "result = model(data)\n",
    "\n",
    "# read the image 'mnist_9.jpg' from the downloaded folder with the 'torchvision' python package and pass it through the network\n",
    "# How does the tensor of the image looks like? Which information is in the different dimensions?\n",
    "\n",
    "# Code here\n",
    "##the image is in grayscale and the tensor contains the pixel intensiti which goes from 0 to 255 where 0 is white a 255 black\n",
    "image = torchvision.io.read_image('mnist_9.jpg').squeeze()\n",
    "\n",
    "forwardPass=model(image.flatten().type(torch.float32))\n",
    "\n",
    "# visualize the image from above with matplotlib\n",
    "import matplotlib.pyplot as plt\n",
    "\n",
    "# Code here\n",
    "plt.imshow(image)"
   ]
  },
  {
   "cell_type": "markdown",
   "metadata": {},
   "source": [
    "## PyTorch Neural Network Example Implementation"
   ]
  },
  {
   "cell_type": "code",
   "execution_count": 29,
   "metadata": {},
   "outputs": [
    {
     "name": "stderr",
     "output_type": "stream",
     "text": [
      "Training iteration 1: 100%|██████████| 15000/15000 [00:53<00:00, 280.12it/s]\n"
     ]
    },
    {
     "name": "stdout",
     "output_type": "stream",
     "text": [
      "Epoch 1 finished with loss: 1.703 and accuracy 0.760\n"
     ]
    },
    {
     "name": "stderr",
     "output_type": "stream",
     "text": [
      "Training iteration 2: 100%|██████████| 15000/15000 [00:50<00:00, 295.43it/s]\n"
     ]
    },
    {
     "name": "stdout",
     "output_type": "stream",
     "text": [
      "Epoch 2 finished with loss: 1.643 and accuracy 0.818\n"
     ]
    },
    {
     "name": "stderr",
     "output_type": "stream",
     "text": [
      "Training iteration 3: 100%|██████████| 15000/15000 [00:52<00:00, 283.04it/s]\n"
     ]
    },
    {
     "name": "stdout",
     "output_type": "stream",
     "text": [
      "Epoch 3 finished with loss: 1.572 and accuracy 0.889\n"
     ]
    },
    {
     "name": "stderr",
     "output_type": "stream",
     "text": [
      "Training iteration 4: 100%|██████████| 15000/15000 [00:50<00:00, 294.29it/s]\n"
     ]
    },
    {
     "name": "stdout",
     "output_type": "stream",
     "text": [
      "Epoch 4 finished with loss: 1.564 and accuracy 0.897\n"
     ]
    },
    {
     "name": "stderr",
     "output_type": "stream",
     "text": [
      "Training iteration 5: 100%|██████████| 15000/15000 [00:53<00:00, 281.97it/s]\n"
     ]
    },
    {
     "name": "stdout",
     "output_type": "stream",
     "text": [
      "Epoch 5 finished with loss: 1.561 and accuracy 0.900\n"
     ]
    },
    {
     "name": "stderr",
     "output_type": "stream",
     "text": [
      "Training iteration 6: 100%|██████████| 15000/15000 [00:54<00:00, 275.02it/s]\n"
     ]
    },
    {
     "name": "stdout",
     "output_type": "stream",
     "text": [
      "Epoch 6 finished with loss: 1.560 and accuracy 0.901\n"
     ]
    },
    {
     "name": "stderr",
     "output_type": "stream",
     "text": [
      "Training iteration 7: 100%|██████████| 15000/15000 [00:52<00:00, 284.62it/s]\n"
     ]
    },
    {
     "name": "stdout",
     "output_type": "stream",
     "text": [
      "Epoch 7 finished with loss: 1.559 and accuracy 0.902\n"
     ]
    },
    {
     "name": "stderr",
     "output_type": "stream",
     "text": [
      "Training iteration 8: 100%|██████████| 15000/15000 [00:53<00:00, 279.66it/s]\n"
     ]
    },
    {
     "name": "stdout",
     "output_type": "stream",
     "text": [
      "Epoch 8 finished with loss: 1.557 and accuracy 0.904\n"
     ]
    },
    {
     "name": "stderr",
     "output_type": "stream",
     "text": [
      "Training iteration 9: 100%|██████████| 15000/15000 [00:54<00:00, 274.50it/s]\n"
     ]
    },
    {
     "name": "stdout",
     "output_type": "stream",
     "text": [
      "Epoch 9 finished with loss: 1.556 and accuracy 0.905\n"
     ]
    },
    {
     "name": "stderr",
     "output_type": "stream",
     "text": [
      "Training iteration 10: 100%|██████████| 15000/15000 [00:55<00:00, 268.48it/s]\n"
     ]
    },
    {
     "name": "stdout",
     "output_type": "stream",
     "text": [
      "Epoch 10 finished with loss: 1.558 and accuracy 0.903\n"
     ]
    }
   ],
   "source": [
    "# This is only the application of your defined model\n",
    "# You can use the following method to train your model and check its accuracy. You can also use parts of the code below for the following practicals.\n",
    "# Just execute this box and it uses the predefined model from the previous task to run a training procedure. The variable name of the model must be 'model' (or change it accordingly).\n",
    "# ATTENTION: No worries if you don't understand the implementation. This is just for showing you how your defined model performs in terms of accuracy.\n",
    "# We will discuss everything in this code in future practicals.\n",
    "\n",
    "# Refine your model multiple times and see how the different models perform in terms of accuracy.\n",
    "\n",
    "# We use the MNIST dataset to set the model\n",
    "import torchvision\n",
    "import torchvision.transforms as transforms\n",
    "import tqdm\n",
    "\n",
    "def load_mnist_data(root_path='./data', batch_size=4):\n",
    "    transform = transforms.Compose(\n",
    "        [transforms.ToTensor(),\n",
    "        transforms.Normalize((0.5), (0.5))]\n",
    "    )\n",
    "\n",
    "    trainset = torchvision.datasets.MNIST(root='./data', train=True, download=True, transform=transform)\n",
    "    trainloader = torch.utils.data.DataLoader(trainset, batch_size=batch_size, shuffle=True, num_workers=2)\n",
    "\n",
    "    testset = torchvision.datasets.MNIST(root='./data', train=False, download=True, transform=transform)\n",
    "    testloader = torch.utils.data.DataLoader(testset, batch_size=batch_size, shuffle=False, num_workers=2)\n",
    "\n",
    "    return trainloader  , testloader\n",
    "\n",
    "\n",
    "def train_model(model, batch_size: int = 4, epochs: int = 10):\n",
    "    # we only consider the mnist train data for this example\n",
    "    train_loader, _ = load_mnist_data()\n",
    "\n",
    "    device = torch.device('cuda') if torch.cuda.is_available() else torch.device('cpu')\n",
    "    criterion = nn.CrossEntropyLoss()\n",
    "    optimizer = torch.optim.Adam(model.parameters(), lr=0.001)\n",
    "    model = model.to(device)\n",
    "    \n",
    "    for epoch in range(epochs):\n",
    "        running_loss = 0.0\n",
    "        running_accuracy = []\n",
    "        for imgs, targets in tqdm.tqdm(train_loader, desc=f'Training iteration {epoch + 1}'):\n",
    "            imgs, targets = imgs.to(device), targets.to(device)\n",
    "\n",
    "            # zero the parameter gradients\n",
    "            optimizer.zero_grad()\n",
    "\n",
    "            # forward + backward + optimize\n",
    "            outputs = model(imgs.reshape(imgs.shape[0], -1)).to(device)\n",
    "            loss = criterion(outputs, targets)\n",
    "            loss.backward()\n",
    "            optimizer.step()\n",
    "\n",
    "            # print statistics\n",
    "            running_loss += loss.item()\n",
    "\n",
    "            # Calculate the Accuracy (how many of all samples are correctly classified?)\n",
    "            max_outputs = torch.max(outputs, dim=1).indices\n",
    "            accuracy = (max_outputs.detach() == targets.detach()).to(dtype=torch.float32).mean()\n",
    "            running_accuracy.append(accuracy)\n",
    "    \n",
    "    \n",
    "        print(f'Epoch {epoch + 1} finished with loss: {running_loss / len(train_loader):.3f} and accuracy {torch.tensor(running_accuracy).mean():.3f}')\n",
    "\n",
    "\n",
    "# Run the model training with the name of your model variable, in this case 'model'\n",
    "\n",
    "train_model(model=model, batch_size=4, epochs=10)"
   ]
  },
  {
   "cell_type": "code",
   "execution_count": 40,
   "metadata": {},
   "outputs": [
    {
     "name": "stdout",
     "output_type": "stream",
     "text": [
      "tensor([1., 0., 0., 0., 0., 0., 0., 0., 0., 0.], device='cuda:0',\n",
      "       grad_fn=<SoftmaxBackward0>)\n",
      "0\n"
     ]
    },
    {
     "data": {
      "image/png": "[encoded data removed]",
      "text/plain": [
       "<Figure size 640x480 with 1 Axes>"
      ]
     },
     "metadata": {},
     "output_type": "display_data"
    }
   ],
   "source": [
    "#Individual testing just to see\n",
    "transform = transforms.Compose(\n",
    "        [transforms.ToTensor(),\n",
    "        transforms.Normalize((0.5), (0.5))]\n",
    "    )\n",
    "\n",
    "testset = torchvision.datasets.MNIST(root='./data', train=False, download=True, transform=transform)\n",
    "index=10\n",
    "\n",
    "plt.imshow(testset.test_data[index])\n",
    "test=testset.test_data[index].to('cuda').flatten().type(torch.float32)\n",
    "result=model(test)\n",
    "print(result)\n",
    "print(torch.argmax(model(test)).item())"
   ]
  }
 ],
 "metadata": {
  "kernelspec": {
   "display_name": "Python 3.10.8 64-bit",
   "language": "python",
   "name": "python3"
  },
  "language_info": {
   "codemirror_mode": {
    "name": "ipython",
    "version": 3
   },
   "file_extension": ".py",
   "mimetype": "text/x-python",
   "name": "python",
   "nbconvert_exporter": "python",
   "pygments_lexer": "ipython3",
   "version": "3.10.8"
  },
  "orig_nbformat": 4,
  "vscode": {
   "interpreter": {
    "hash": "e7370f93d1d0cde622a1f8e1c04877d8463912d04d973331ad4851f04de6915a"
   }
  }
 },
 "nbformat": 4,
 "nbformat_minor": 2
}
