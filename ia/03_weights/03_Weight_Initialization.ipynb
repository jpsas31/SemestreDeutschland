{
 "cells": [
  {
   "cell_type": "markdown",
   "metadata": {},
   "source": [
    "# Weight Initialization"
   ]
  },
  {
   "cell_type": "raw",
   "metadata": {},
   "source": [
    "We need the Python packages for PyTorch and matplotlib for this practical."
   ]
  },
  {
   "cell_type": "markdown",
   "metadata": {},
   "source": [
    "## Our test model for this practical task"
   ]
  },
  {
   "cell_type": "code",
   "execution_count": 1,
   "metadata": {},
   "outputs": [],
   "source": [
    "# Use the below functionality to execute your model (that you will adjust later step by step)\n",
    "# This block of code provides you the functionality to train a model. Results are printed after each epoch\n",
    "\n",
    "import torch\n",
    "import torch.nn as nn\n",
    "import torchvision\n",
    "import torchvision.transforms as transforms\n",
    "import tqdm\n",
    "\n",
    "\n",
    "def load_mnist_data(root_path='./data', batch_size=4):\n",
    "    \"\"\"\n",
    "    Loads MNIST dataset into your directory.\n",
    "    You can change the root_path to point to a already existing path if you want to safe a little bit of memory :)\n",
    "    \"\"\"\n",
    "    transform = transforms.Compose(\n",
    "        [transforms.ToTensor(),\n",
    "        transforms.Normalize((0.5), (0.5))]\n",
    "    )\n",
    "\n",
    "    trainset = torchvision.datasets.MNIST(root='./data', train=True, download=True, transform=transform)\n",
    "    trainloader = torch.utils.data.DataLoader(trainset, batch_size=batch_size, shuffle=True, num_workers=2)\n",
    "\n",
    "    testset = torchvision.datasets.MNIST(root='./data', train=False, download=True, transform=transform)\n",
    "    testloader = torch.utils.data.DataLoader(testset, batch_size=batch_size, shuffle=False, num_workers=2)\n",
    "\n",
    "    return trainloader, testloader\n",
    "\n",
    "\n",
    "def train_model(model, batch_size: int = 4, epochs: int = 10):\n",
    "    # we only consider the mnist train data for this example\n",
    "    train_loader, _ = load_mnist_data()\n",
    "\n",
    "    device = torch.device('cuda') if torch.cuda.is_available() else torch.device('cpu')\n",
    "    criterion = nn.CrossEntropyLoss()\n",
    "    optimizer = torch.optim.SGD(model.parameters(), lr=0.001)\n",
    "    model = model.to(device)\n",
    "\n",
    "    iterations = 0\n",
    "    for epoch in range(epochs):\n",
    "        running_loss = 0.0\n",
    "        running_accuracy = []\n",
    "        for imgs, targets in tqdm.tqdm(train_loader, desc=f'Training iteration {epoch + 1}'):\n",
    "            iterations += 1\n",
    "            imgs, targets = imgs.to(device=device), targets.to(device=device)\n",
    "            # zero the parameter gradients\n",
    "            optimizer.zero_grad()\n",
    "\n",
    "            # forward + backward + optimize\n",
    "            outputs = model(imgs.reshape(imgs.shape[0], -1))\n",
    "            for i,j in enumerate(outputs):\n",
    "                # print(outputs[i])\n",
    "                outputs[i]= j.argmax()\n",
    "            # print(outputs)\n",
    "\n",
    "            loss = criterion(outputs, targets)\n",
    "            grad = loss.backward() #->CALCULATE GRADIENT\n",
    "            optimizer.step() #->update Weights\n",
    "\n",
    "            # print statistics\n",
    "            running_loss += loss.item()\n",
    "\n",
    "            # Calculate the Accuracy (how many of all samples are correctly classified?)\n",
    "            max_outputs = torch.max(outputs, dim=1).indices\n",
    "            accuracy = (max_outputs.detach() == targets.detach()).to(dtype=torch.float32).mean()\n",
    "            running_accuracy.append(accuracy)\n",
    "    \n",
    "        print(f'Epoch {epoch + 1} finished with loss: {running_loss / len(train_loader):.3f} and accuracy {torch.tensor(running_accuracy).mean():.3f}')"
   ]
  },
  {
   "cell_type": "markdown",
   "metadata": {},
   "source": [
    "## Training progress with different weight settings"
   ]
  },
  {
   "cell_type": "code",
   "execution_count": 2,
   "metadata": {},
   "outputs": [],
   "source": [
    "# You can use this model for your tests (of course you can change the architecture a little, but it should not be necessary.)\n",
    "import torch\n",
    "import torch.nn as nn\n",
    "\n",
    "\n",
    "model = nn.Sequential(\n",
    "    nn.Linear(784, 32),  # input layer (do not change the in_features size of this layer - we need it later)\n",
    "    nn.Linear(32, 32),\n",
    "    nn.Linear(32, 10)  # you can change the in_features of this layer but let the out_features at size 10 here - we need it layer\n",
    ")"
   ]
  },
  {
   "cell_type": "markdown",
   "metadata": {},
   "source": [
    "### Weight settings"
   ]
  },
  {
   "cell_type": "code",
   "execution_count": 3,
   "metadata": {},
   "outputs": [],
   "source": [
    "# Find out how to change the weights of the layers from your neural network.\n",
    "# ATTTENTION: Write your code inside the \"with torch.no_grad():\" section! This is necessary for changing the weights of the layers"
   ]
  },
  {
   "cell_type": "markdown",
   "metadata": {},
   "source": [
    "#### Zero weights"
   ]
  },
  {
   "cell_type": "code",
   "execution_count": 4,
   "metadata": {},
   "outputs": [],
   "source": [
    "# Set all weights and biases of your network to zero\n",
    "\n",
    "with torch.no_grad():\n",
    "    # Code here\n",
    "    for weights in model.state_dict().values():\n",
    "        weights[:]=0\n",
    "\n",
    "\n"
   ]
  },
  {
   "cell_type": "code",
   "execution_count": 5,
   "metadata": {},
   "outputs": [
    {
     "name": "stderr",
     "output_type": "stream",
     "text": [
      "Training iteration 1: 100%|██████████| 15000/15000 [00:49<00:00, 300.29it/s]\n"
     ]
    },
    {
     "name": "stdout",
     "output_type": "stream",
     "text": [
      "Epoch 1 finished with loss: 2.303 and accuracy 0.099\n"
     ]
    },
    {
     "name": "stderr",
     "output_type": "stream",
     "text": [
      "Training iteration 2: 100%|██████████| 15000/15000 [00:50<00:00, 297.37it/s]\n"
     ]
    },
    {
     "name": "stdout",
     "output_type": "stream",
     "text": [
      "Epoch 2 finished with loss: 2.303 and accuracy 0.099\n"
     ]
    },
    {
     "name": "stderr",
     "output_type": "stream",
     "text": [
      "Training iteration 3: 100%|██████████| 15000/15000 [00:49<00:00, 303.49it/s]\n"
     ]
    },
    {
     "name": "stdout",
     "output_type": "stream",
     "text": [
      "Epoch 3 finished with loss: 2.303 and accuracy 0.099\n"
     ]
    },
    {
     "name": "stderr",
     "output_type": "stream",
     "text": [
      "Training iteration 4:  42%|████▏     | 6338/15000 [00:21<00:30, 282.37it/s]"
     ]
    }
   ],
   "source": [
    "# Train the network with your new settings and take a look at the results\n",
    "# Run the model training\n",
    "train_model(model=model, batch_size=32, epochs=4)\n",
    "\n",
    "# What can you observe?\n",
    "# there is no learning happening"
   ]
  },
  {
   "cell_type": "markdown",
   "metadata": {},
   "source": [
    "#### Constant weights"
   ]
  },
  {
   "cell_type": "code",
   "execution_count": null,
   "metadata": {},
   "outputs": [],
   "source": [
    "# Set all weights and biases to constant numbers (e.g. 0.5)\n",
    "# How does the training progress?\n",
    "\n",
    "with torch.no_grad():\n",
    "    # Code here\n",
    "    for weights in model.state_dict().values():\n",
    "        weights[:]=0.5\n"
   ]
  },
  {
   "cell_type": "code",
   "execution_count": null,
   "metadata": {},
   "outputs": [
    {
     "name": "stderr",
     "output_type": "stream",
     "text": [
      "Training iteration 1: 100%|██████████| 15000/15000 [00:41<00:00, 358.53it/s]\n"
     ]
    },
    {
     "name": "stdout",
     "output_type": "stream",
     "text": [
      "Epoch 1 finished with loss: 92.285 and accuracy 0.105\n"
     ]
    },
    {
     "name": "stderr",
     "output_type": "stream",
     "text": [
      "Training iteration 2: 100%|██████████| 15000/15000 [00:42<00:00, 353.86it/s]\n"
     ]
    },
    {
     "name": "stdout",
     "output_type": "stream",
     "text": [
      "Epoch 2 finished with loss: 2.309 and accuracy 0.105\n"
     ]
    },
    {
     "name": "stderr",
     "output_type": "stream",
     "text": [
      "Training iteration 3: 100%|██████████| 15000/15000 [00:43<00:00, 347.94it/s]\n"
     ]
    },
    {
     "name": "stdout",
     "output_type": "stream",
     "text": [
      "Epoch 3 finished with loss: 2.309 and accuracy 0.105\n"
     ]
    },
    {
     "name": "stderr",
     "output_type": "stream",
     "text": [
      "Training iteration 4: 100%|██████████| 15000/15000 [00:44<00:00, 334.31it/s]\n"
     ]
    },
    {
     "name": "stdout",
     "output_type": "stream",
     "text": [
      "Epoch 4 finished with loss: 2.308 and accuracy 0.102\n"
     ]
    }
   ],
   "source": [
    "# Train the network with your new settings and take a look at the results\n",
    "# Run the model training\n",
    "train_model(model=model, batch_size=32, epochs=4)\n",
    "\n",
    "# What can you observe?\n",
    "# the network learns but at a super slow rate"
   ]
  },
  {
   "cell_type": "code",
   "execution_count": null,
   "metadata": {},
   "outputs": [
    {
     "name": "stdout",
     "output_type": "stream",
     "text": [
      "tensor([[ 0.6968,  0.6968,  0.6968,  0.6968,  0.6968,  0.6968,  0.6968,  0.6968,\n",
      "          0.6968,  0.6968,  0.6968,  0.6968,  0.6968,  0.6968,  0.6968,  0.6968,\n",
      "          0.6968,  0.6968,  0.6968,  0.6968,  0.6968,  0.6968,  0.6968,  0.6968,\n",
      "          0.6968,  0.6968,  0.6968,  0.6968,  0.6968,  0.6968,  0.6968,  0.6968],\n",
      "        [-7.0244, -7.0244, -7.0244, -7.0244, -7.0244, -7.0244, -7.0244, -7.0244,\n",
      "         -7.0244, -7.0244, -7.0244, -7.0244, -7.0244, -7.0244, -7.0244, -7.0244,\n",
      "         -7.0244, -7.0244, -7.0244, -7.0244, -7.0244, -7.0244, -7.0244, -7.0244,\n",
      "         -7.0244, -7.0244, -7.0244, -7.0244, -7.0244, -7.0244, -7.0244, -7.0244],\n",
      "        [ 0.7080,  0.7080,  0.7080,  0.7080,  0.7080,  0.7080,  0.7080,  0.7080,\n",
      "          0.7080,  0.7080,  0.7080,  0.7080,  0.7080,  0.7080,  0.7080,  0.7080,\n",
      "          0.7080,  0.7080,  0.7080,  0.7080,  0.7080,  0.7080,  0.7080,  0.7080,\n",
      "          0.7080,  0.7080,  0.7080,  0.7080,  0.7080,  0.7080,  0.7080,  0.7080],\n",
      "        [ 1.2138,  1.2138,  1.2138,  1.2138,  1.2138,  1.2138,  1.2138,  1.2138,\n",
      "          1.2138,  1.2138,  1.2138,  1.2138,  1.2138,  1.2138,  1.2138,  1.2138,\n",
      "          1.2138,  1.2138,  1.2138,  1.2138,  1.2138,  1.2138,  1.2138,  1.2138,\n",
      "          1.2138,  1.2138,  1.2138,  1.2138,  1.2138,  1.2138,  1.2138,  1.2138],\n",
      "        [ 0.6920,  0.6920,  0.6920,  0.6920,  0.6920,  0.6920,  0.6920,  0.6920,\n",
      "          0.6920,  0.6920,  0.6920,  0.6920,  0.6920,  0.6920,  0.6920,  0.6920,\n",
      "          0.6920,  0.6920,  0.6920,  0.6920,  0.6920,  0.6920,  0.6920,  0.6920,\n",
      "          0.6920,  0.6920,  0.6920,  0.6920,  0.6920,  0.6920,  0.6920,  0.6920],\n",
      "        [ 0.6277,  0.6277,  0.6277,  0.6277,  0.6277,  0.6277,  0.6277,  0.6277,\n",
      "          0.6277,  0.6277,  0.6277,  0.6277,  0.6277,  0.6277,  0.6277,  0.6277,\n",
      "          0.6277,  0.6277,  0.6277,  0.6277,  0.6277,  0.6277,  0.6277,  0.6277,\n",
      "          0.6277,  0.6277,  0.6277,  0.6277,  0.6277,  0.6277,  0.6277,  0.6277],\n",
      "        [ 0.6958,  0.6958,  0.6958,  0.6958,  0.6958,  0.6958,  0.6958,  0.6958,\n",
      "          0.6958,  0.6958,  0.6958,  0.6958,  0.6958,  0.6958,  0.6958,  0.6958,\n",
      "          0.6958,  0.6958,  0.6958,  0.6958,  0.6958,  0.6958,  0.6958,  0.6958,\n",
      "          0.6958,  0.6958,  0.6958,  0.6958,  0.6958,  0.6958,  0.6958,  0.6958],\n",
      "        [ 0.7187,  0.7187,  0.7187,  0.7187,  0.7187,  0.7187,  0.7187,  0.7187,\n",
      "          0.7187,  0.7187,  0.7187,  0.7187,  0.7187,  0.7187,  0.7187,  0.7187,\n",
      "          0.7187,  0.7187,  0.7187,  0.7187,  0.7187,  0.7187,  0.7187,  0.7187,\n",
      "          0.7187,  0.7187,  0.7187,  0.7187,  0.7187,  0.7187,  0.7187,  0.7187],\n",
      "        [ 0.7171,  0.7171,  0.7171,  0.7171,  0.7171,  0.7171,  0.7171,  0.7171,\n",
      "          0.7171,  0.7171,  0.7171,  0.7171,  0.7171,  0.7171,  0.7171,  0.7171,\n",
      "          0.7171,  0.7171,  0.7171,  0.7171,  0.7171,  0.7171,  0.7171,  0.7171,\n",
      "          0.7171,  0.7171,  0.7171,  0.7171,  0.7171,  0.7171,  0.7171,  0.7171],\n",
      "        [ 0.9545,  0.9545,  0.9545,  0.9545,  0.9545,  0.9545,  0.9545,  0.9545,\n",
      "          0.9545,  0.9545,  0.9545,  0.9545,  0.9545,  0.9545,  0.9545,  0.9545,\n",
      "          0.9545,  0.9545,  0.9545,  0.9545,  0.9545,  0.9545,  0.9545,  0.9545,\n",
      "          0.9545,  0.9545,  0.9545,  0.9545,  0.9545,  0.9545,  0.9545,  0.9545]],\n",
      "       device='cuda:0')\n"
     ]
    }
   ],
   "source": [
    "# Let us also take a look at the gradient of the output layer\n",
    "# Access the gradients at the output layer of your model and analyze them\n",
    "\n",
    "# We first input some random values\n",
    "# forward + backward\n",
    "model=model.to(torch.device('cuda') )\n",
    "outputs = model(torch.randn(size=(1,784)).to(torch.device('cuda') )).to(torch.device('cuda'))\n",
    "loss = nn.CrossEntropyLoss()(outputs, torch.tensor([1]).to(torch.device('cuda')))\n",
    "loss.backward()\n",
    "\n",
    "# Code here\n",
    "print(model[2].weight.grad)\n",
    "\n",
    "\n",
    "# What can you observe?\n",
    "# What we can observe is, that the model changes the weight always the same amount making it unable to learn."
   ]
  },
  {
   "cell_type": "markdown",
   "metadata": {},
   "source": [
    "#### Unusual weights"
   ]
  },
  {
   "cell_type": "code",
   "execution_count": null,
   "metadata": {},
   "outputs": [
    {
     "name": "stdout",
     "output_type": "stream",
     "text": [
      "tensor([[10.0000, 10.0000, 10.0000,  ..., 10.0000, 10.0000, 10.0000],\n",
      "        [ 0.3263,  0.3263,  0.3263,  ...,  0.3263,  0.3263,  0.3263],\n",
      "        [10.0000, 10.0000, 10.0000,  ..., 10.0000, 10.0000, 10.0000],\n",
      "        ...,\n",
      "        [ 0.3263,  0.3263,  0.3263,  ...,  0.3263,  0.3263,  0.3263],\n",
      "        [10.0000, 10.0000, 10.0000,  ..., 10.0000, 10.0000, 10.0000],\n",
      "        [ 0.3263,  0.3263,  0.3263,  ...,  0.3263,  0.3263,  0.3263]],\n",
      "       device='cuda:0')\n",
      "tensor([10.0000,  0.6737, 10.0000,  0.6737, 10.0000,  0.6737, 10.0000,  0.6737,\n",
      "        10.0000,  0.6737, 10.0000,  0.6737, 10.0000,  0.6737, 10.0000,  0.6737,\n",
      "        10.0000,  0.6737, 10.0000,  0.6737, 10.0000,  0.6737, 10.0000,  0.6737,\n",
      "        10.0000,  0.6737, 10.0000,  0.6737, 10.0000,  0.6737, 10.0000,  0.6737],\n",
      "       device='cuda:0')\n",
      "tensor([[1.0000e+01, 1.0000e+01, 1.0000e+01,  ..., 1.0000e+01, 1.0000e+01,\n",
      "         1.0000e+01],\n",
      "        [3.4562e-04, 3.4562e-04, 3.4562e-04,  ..., 3.4562e-04, 3.4562e-04,\n",
      "         3.4562e-04],\n",
      "        [1.0000e+01, 1.0000e+01, 1.0000e+01,  ..., 1.0000e+01, 1.0000e+01,\n",
      "         1.0000e+01],\n",
      "        ...,\n",
      "        [3.4562e-04, 3.4562e-04, 3.4562e-04,  ..., 3.4562e-04, 3.4562e-04,\n",
      "         3.4562e-04],\n",
      "        [1.0000e+01, 1.0000e+01, 1.0000e+01,  ..., 1.0000e+01, 1.0000e+01,\n",
      "         1.0000e+01],\n",
      "        [3.4562e-04, 3.4562e-04, 3.4562e-04,  ..., 3.4562e-04, 3.4562e-04,\n",
      "         3.4562e-04]], device='cuda:0')\n",
      "tensor([10.0000,  0.5031, 10.0000,  0.5031, 10.0000,  0.5031, 10.0000,  0.5031,\n",
      "        10.0000,  0.5031, 10.0000,  0.5031, 10.0000,  0.5031, 10.0000,  0.5031,\n",
      "        10.0000,  0.5031, 10.0000,  0.5031, 10.0000,  0.5031, 10.0000,  0.5031,\n",
      "        10.0000,  0.5031, 10.0000,  0.5031, 10.0000,  0.5031, 10.0000,  0.5031],\n",
      "       device='cuda:0')\n",
      "tensor([[10.0000, 10.0000, 10.0000, 10.0000, 10.0000, 10.0000, 10.0000, 10.0000,\n",
      "         10.0000, 10.0000, 10.0000, 10.0000, 10.0000, 10.0000, 10.0000, 10.0000,\n",
      "         10.0000, 10.0000, 10.0000, 10.0000, 10.0000, 10.0000, 10.0000, 10.0000,\n",
      "         10.0000, 10.0000, 10.0000, 10.0000, 10.0000, 10.0000, 10.0000, 10.0000],\n",
      "        [ 0.4979,  0.4979,  0.4979,  0.4979,  0.4979,  0.4979,  0.4979,  0.4979,\n",
      "          0.4979,  0.4979,  0.4979,  0.4979,  0.4979,  0.4979,  0.4979,  0.4979,\n",
      "          0.4979,  0.4979,  0.4979,  0.4979,  0.4979,  0.4979,  0.4979,  0.4979,\n",
      "          0.4979,  0.4979,  0.4979,  0.4979,  0.4979,  0.4979,  0.4979,  0.4979],\n",
      "        [10.0000, 10.0000, 10.0000, 10.0000, 10.0000, 10.0000, 10.0000, 10.0000,\n",
      "         10.0000, 10.0000, 10.0000, 10.0000, 10.0000, 10.0000, 10.0000, 10.0000,\n",
      "         10.0000, 10.0000, 10.0000, 10.0000, 10.0000, 10.0000, 10.0000, 10.0000,\n",
      "         10.0000, 10.0000, 10.0000, 10.0000, 10.0000, 10.0000, 10.0000, 10.0000],\n",
      "        [ 0.4997,  0.4997,  0.4997,  0.4997,  0.4997,  0.4997,  0.4997,  0.4997,\n",
      "          0.4997,  0.4997,  0.4997,  0.4997,  0.4997,  0.4997,  0.4997,  0.4997,\n",
      "          0.4997,  0.4997,  0.4997,  0.4997,  0.4997,  0.4997,  0.4997,  0.4997,\n",
      "          0.4997,  0.4997,  0.4997,  0.4997,  0.4997,  0.4997,  0.4997,  0.4997],\n",
      "        [10.0000, 10.0000, 10.0000, 10.0000, 10.0000, 10.0000, 10.0000, 10.0000,\n",
      "         10.0000, 10.0000, 10.0000, 10.0000, 10.0000, 10.0000, 10.0000, 10.0000,\n",
      "         10.0000, 10.0000, 10.0000, 10.0000, 10.0000, 10.0000, 10.0000, 10.0000,\n",
      "         10.0000, 10.0000, 10.0000, 10.0000, 10.0000, 10.0000, 10.0000, 10.0000],\n",
      "        [ 0.4998,  0.4998,  0.4998,  0.4998,  0.4998,  0.4998,  0.4998,  0.4998,\n",
      "          0.4998,  0.4998,  0.4998,  0.4998,  0.4998,  0.4998,  0.4998,  0.4998,\n",
      "          0.4998,  0.4998,  0.4998,  0.4998,  0.4998,  0.4998,  0.4998,  0.4998,\n",
      "          0.4998,  0.4998,  0.4998,  0.4998,  0.4998,  0.4998,  0.4998,  0.4998],\n",
      "        [10.0000, 10.0000, 10.0000, 10.0000, 10.0000, 10.0000, 10.0000, 10.0000,\n",
      "         10.0000, 10.0000, 10.0000, 10.0000, 10.0000, 10.0000, 10.0000, 10.0000,\n",
      "         10.0000, 10.0000, 10.0000, 10.0000, 10.0000, 10.0000, 10.0000, 10.0000,\n",
      "         10.0000, 10.0000, 10.0000, 10.0000, 10.0000, 10.0000, 10.0000, 10.0000],\n",
      "        [ 0.5003,  0.5003,  0.5003,  0.5003,  0.5003,  0.5003,  0.5003,  0.5003,\n",
      "          0.5003,  0.5003,  0.5003,  0.5003,  0.5003,  0.5003,  0.5003,  0.5003,\n",
      "          0.5003,  0.5003,  0.5003,  0.5003,  0.5003,  0.5003,  0.5003,  0.5003,\n",
      "          0.5003,  0.5003,  0.5003,  0.5003,  0.5003,  0.5003,  0.5003,  0.5003],\n",
      "        [10.0000, 10.0000, 10.0000, 10.0000, 10.0000, 10.0000, 10.0000, 10.0000,\n",
      "         10.0000, 10.0000, 10.0000, 10.0000, 10.0000, 10.0000, 10.0000, 10.0000,\n",
      "         10.0000, 10.0000, 10.0000, 10.0000, 10.0000, 10.0000, 10.0000, 10.0000,\n",
      "         10.0000, 10.0000, 10.0000, 10.0000, 10.0000, 10.0000, 10.0000, 10.0000],\n",
      "        [ 0.4993,  0.4993,  0.4993,  0.4993,  0.4993,  0.4993,  0.4993,  0.4993,\n",
      "          0.4993,  0.4993,  0.4993,  0.4993,  0.4993,  0.4993,  0.4993,  0.4993,\n",
      "          0.4993,  0.4993,  0.4993,  0.4993,  0.4993,  0.4993,  0.4993,  0.4993,\n",
      "          0.4993,  0.4993,  0.4993,  0.4993,  0.4993,  0.4993,  0.4993,  0.4993]],\n",
      "       device='cuda:0')\n",
      "tensor([10.0000,  0.5538, 10.0000,  0.5247, 10.0000,  0.4065, 10.0000,  0.5297,\n",
      "        10.0000,  0.4931], device='cuda:0')\n"
     ]
    }
   ],
   "source": [
    "# Set some weights (around 50%) of every model of the model to some weird value, e. g. extremely high (> 10.0) or extremely low (< 1e-7).\n",
    "# How does the training progress? \n",
    "# Can your model also diverge instead of converge because the weights were way to high or low?\n",
    "\n",
    "with torch.no_grad():\n",
    "    # Code here\n",
    "    for weights in model.state_dict().values():\n",
    "        weights[::2]=10\n",
    "        "
   ]
  },
  {
   "cell_type": "code",
   "execution_count": null,
   "metadata": {},
   "outputs": [
    {
     "name": "stderr",
     "output_type": "stream",
     "text": [
      "Training iteration 1: 100%|██████████| 15000/15000 [00:46<00:00, 321.57it/s]\n"
     ]
    },
    {
     "name": "stdout",
     "output_type": "stream",
     "text": [
      "Epoch 1 finished with loss: nan and accuracy 0.099\n"
     ]
    },
    {
     "name": "stderr",
     "output_type": "stream",
     "text": [
      "Training iteration 2: 100%|██████████| 15000/15000 [00:45<00:00, 326.63it/s]\n"
     ]
    },
    {
     "name": "stdout",
     "output_type": "stream",
     "text": [
      "Epoch 2 finished with loss: nan and accuracy 0.099\n"
     ]
    },
    {
     "name": "stderr",
     "output_type": "stream",
     "text": [
      "Training iteration 3: 100%|██████████| 15000/15000 [00:45<00:00, 330.03it/s]\n"
     ]
    },
    {
     "name": "stdout",
     "output_type": "stream",
     "text": [
      "Epoch 3 finished with loss: nan and accuracy 0.099\n"
     ]
    },
    {
     "name": "stderr",
     "output_type": "stream",
     "text": [
      "Training iteration 4: 100%|██████████| 15000/15000 [00:45<00:00, 327.47it/s]\n"
     ]
    },
    {
     "name": "stdout",
     "output_type": "stream",
     "text": [
      "Epoch 4 finished with loss: nan and accuracy 0.099\n"
     ]
    },
    {
     "name": "stderr",
     "output_type": "stream",
     "text": [
      "Training iteration 5: 100%|██████████| 15000/15000 [00:44<00:00, 338.51it/s]\n"
     ]
    },
    {
     "name": "stdout",
     "output_type": "stream",
     "text": [
      "Epoch 5 finished with loss: nan and accuracy 0.099\n"
     ]
    }
   ],
   "source": [
    "# Train the network with your new settings and take a look at the results\n",
    "# Run the model training\n",
    "train_model(model=model, batch_size=4, epochs=5)\n",
    "\n",
    "# What can you observe?\n",
    "# there is no learning because the high weights causes the exploding gradient problem"
   ]
  },
  {
   "cell_type": "markdown",
   "metadata": {},
   "source": [
    "## Weight initialization techniques"
   ]
  },
  {
   "cell_type": "code",
   "execution_count": null,
   "metadata": {},
   "outputs": [
    {
     "name": "stderr",
     "output_type": "stream",
     "text": [
      "No artists with labels found to put in legend.  Note that artists whose label start with an underscore are ignored when legend() is called with no argument.\n"
     ]
    },
    {
     "data": {
      "image/png": "[encoded data removed]",
      "text/plain": [
       "<Figure size 640x480 with 4 Axes>"
      ]
     },
     "metadata": {},
     "output_type": "display_data"
    }
   ],
   "source": [
    "# We now take a closer look to the sigmoid activation function.\n",
    "# Where does the sigmoid function creates small gradients and where are the biggest gradient?\n",
    "\n",
    "# Explanation here\n",
    "\n",
    "\n",
    "# Now lets plot some different activation function methods\n",
    "# Use matplotlib and plot the sigmoid activation function into the plot.\n",
    "# Create 1000 sample points from x-values [-5.0, 5.0] and create y = Sigmoid(x) and plot the result. (The result should simply be the sigmoid curve)\n",
    "# You can use the Sigmoid function from PyTorch here!\n",
    "\n",
    "import matplotlib.pyplot as plt\n",
    "import numpy as np\n",
    "import torch\n",
    "# Code here\n",
    "fig, ax = plt.subplots(2,2)\n",
    "val = np.random.uniform(-5,5,(1000,1))\n",
    "y=torch.sigmoid(torch.from_numpy(val))\n",
    "ax[0][0].scatter(val,y)\n",
    "ax[0][0].set_title('Sigmoid')\n",
    "# Now lets plot the kaiming normal weight initialization into the plot\n",
    "# Create 1000 points (x) sampled from the kaiming_normal_ (pytorch function) and create y = Sigmoid(kaiming_normal(1000)) and plot the result into the same plot as before.\n",
    "# Use a different color for plotting the results\n",
    "\n",
    "\n",
    "# Code here\n",
    "val= torch.empty(1000,1)\n",
    "torch.nn.init.kaiming_normal_(val)\n",
    "y=torch.sigmoid(val)\n",
    "ax[0][1].scatter(val,y,c=['red'])\n",
    "ax[0][1].set_title('Sigmoid with Kaiming initialization')\n",
    "\n",
    "\n",
    "\n",
    "# Now lets plot a random normal (torch.randn) weight initialization into the plot\n",
    "# Create 1000 points (x) sampled from the randn (pytorch function) and create y = Sigmoid(randn(1000)) and plot the result into the same plot as before.\n",
    "# Use a different color for plotting the results\n",
    "\n",
    "# Code here\n",
    "val= torch.randn((1000,1))\n",
    "y=torch.sigmoid(val)\n",
    "ax[1][0].scatter(val,y,c=['green'])\n",
    "ax[1][0].set_title('Sigmoid with random normal dist')\n",
    "\n",
    "\n",
    "# Now lets plot a xavier_normal weight initialization into the plot\n",
    "# Create 1000 points (x) sampled from the xavier_normal_ (pytorch function) and create y = Sigmoid(xavier_normal_(1000)) and plot the result into the same plot as before.\n",
    "# Use a different color for plotting the results\n",
    "\n",
    "\n",
    "# Code here\n",
    "val= torch.empty(1000,1)\n",
    "torch.nn.init.xavier_normal_(val)\n",
    "y=torch.sigmoid(val)\n",
    "ax[1][1].scatter(val,y,c=['yellow'])\n",
    "ax[1][1].set_title('Sigmoid with Xavier initialization')\n",
    "\n",
    "\n",
    "fig.tight_layout(pad=1.0)\n",
    "plt.legend()\n",
    "plt.show()\n",
    "\n",
    "\n",
    "# Which weight initialization technique is best when using sigmoid activation function?\n",
    "\n",
    "# Answer here\n",
    "# Kaiming initialization works better with the sigmoid activation function"
   ]
  },
  {
   "cell_type": "markdown",
   "metadata": {},
   "source": [
    "## Be creative and test some other weight initialization techniques! - There is so much to explore!"
   ]
  }
 ],
 "metadata": {
  "kernelspec": {
   "display_name": "Python 3.10.8 64-bit",
   "language": "python",
   "name": "python3"
  },
  "language_info": {
   "codemirror_mode": {
    "name": "ipython",
    "version": 3
   },
   "file_extension": ".py",
   "mimetype": "text/x-python",
   "name": "python",
   "nbconvert_exporter": "python",
   "pygments_lexer": "ipython3",
   "version": "3.10.8"
  },
  "orig_nbformat": 4,
  "vscode": {
   "interpreter": {
    "hash": "e7370f93d1d0cde622a1f8e1c04877d8463912d04d973331ad4851f04de6915a"
   }
  }
 },
 "nbformat": 4,
 "nbformat_minor": 2
}
