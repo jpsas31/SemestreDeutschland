{
 "cells": [
  {
   "cell_type": "markdown",
   "id": "01efec20",
   "metadata": {},
   "source": [
    "# Assignment: API Usage\n",
    "In this assignment you will work with the [Earth Observatory Natural Event Tracker (EONET)](https://eonet.gsfc.nasa.gov/what-is-eonet), a prototype web service provided by NASA. One of the goals of this API is to provide a curated source of continuously updated natural event metadata. \n",
    "\n",
    "Your task is to extract the natural events of the last 100 days and print all events of the category *severeStorms*. You can read the following documentation about the API and its parameters: [Documentation](https://eonet.gsfc.nasa.gov/docs/v3)."
   ]
  },
  {
   "cell_type": "markdown",
   "id": "6a5561cf",
   "metadata": {},
   "source": []
  },
  {
   "cell_type": "code",
   "execution_count": 132,
   "id": "d558c504",
   "metadata": {},
   "outputs": [],
   "source": [
    "# Import the necessary libraries\n",
    "import requests\n",
    "import json\n",
    "import pandas as pd"
   ]
  },
  {
   "cell_type": "markdown",
   "id": "df44fbff",
   "metadata": {},
   "source": [
    "You can find examples for requesting API events [here](https://eonet.gsfc.nasa.gov/docs/v3#eventsAPI). You do not need an API key. Format your events as json."
   ]
  },
  {
   "cell_type": "code",
   "execution_count": 133,
   "id": "ba99c625",
   "metadata": {},
   "outputs": [],
   "source": [
    "# Request the events of the last 100 days\n",
    "url = f'https://eonet.gsfc.nasa.gov/api/v3/events?days=100'\n",
    "r = requests.get(url)\n",
    "events_data = r.json()\n"
   ]
  },
  {
   "cell_type": "code",
   "execution_count": 134,
   "id": "620798f3",
   "metadata": {},
   "outputs": [],
   "source": [
    "# Read the events into a Pandas dataframe\n",
    "events = events_data['events']\n",
    "events_df = pd.DataFrame(events)"
   ]
  },
  {
   "cell_type": "code",
   "execution_count": 135,
   "id": "bfe8b598",
   "metadata": {},
   "outputs": [
    {
     "data": {
      "text/html": [
       "<div>\n",
       "<style scoped>\n",
       "    .dataframe tbody tr th:only-of-type {\n",
       "        vertical-align: middle;\n",
       "    }\n",
       "\n",
       "    .dataframe tbody tr th {\n",
       "        vertical-align: top;\n",
       "    }\n",
       "\n",
       "    .dataframe thead th {\n",
       "        text-align: right;\n",
       "    }\n",
       "</style>\n",
       "<table border=\"1\" class=\"dataframe\">\n",
       "  <thead>\n",
       "    <tr style=\"text-align: right;\">\n",
       "      <th></th>\n",
       "      <th>id</th>\n",
       "      <th>title</th>\n",
       "      <th>description</th>\n",
       "      <th>link</th>\n",
       "      <th>closed</th>\n",
       "      <th>categories</th>\n",
       "      <th>sources</th>\n",
       "      <th>geometry</th>\n",
       "    </tr>\n",
       "  </thead>\n",
       "  <tbody>\n",
       "    <tr>\n",
       "      <th>0</th>\n",
       "      <td>EONET_6295</td>\n",
       "      <td>Tropical Storm Martin</td>\n",
       "      <td>None</td>\n",
       "      <td>https://eonet.gsfc.nasa.gov/api/v3/events/EONE...</td>\n",
       "      <td>None</td>\n",
       "      <td>[{'id': 'severeStorms', 'title': 'Severe Storm...</td>\n",
       "      <td>[{'id': 'GDACS', 'url': 'https://www.gdacs.org...</td>\n",
       "      <td>[{'magnitudeValue': 45.0, 'magnitudeUnit': 'kt...</td>\n",
       "    </tr>\n",
       "    <tr>\n",
       "      <th>1</th>\n",
       "      <td>EONET_6294</td>\n",
       "      <td>Tropical Storm Lisa</td>\n",
       "      <td>None</td>\n",
       "      <td>https://eonet.gsfc.nasa.gov/api/v3/events/EONE...</td>\n",
       "      <td>None</td>\n",
       "      <td>[{'id': 'severeStorms', 'title': 'Severe Storm...</td>\n",
       "      <td>[{'id': 'GDACS', 'url': 'https://www.gdacs.org...</td>\n",
       "      <td>[{'magnitudeValue': 35.0, 'magnitudeUnit': 'kt...</td>\n",
       "    </tr>\n",
       "    <tr>\n",
       "      <th>2</th>\n",
       "      <td>EONET_6289</td>\n",
       "      <td>Typhoon Nalgae</td>\n",
       "      <td>None</td>\n",
       "      <td>https://eonet.gsfc.nasa.gov/api/v3/events/EONE...</td>\n",
       "      <td>None</td>\n",
       "      <td>[{'id': 'severeStorms', 'title': 'Severe Storm...</td>\n",
       "      <td>[{'id': 'EO', 'url': 'https://earthobservatory...</td>\n",
       "      <td>[{'magnitudeValue': 35.0, 'magnitudeUnit': 'kt...</td>\n",
       "    </tr>\n",
       "  </tbody>\n",
       "</table>\n",
       "</div>"
      ],
      "text/plain": [
       "           id                  title description  \\\n",
       "0  EONET_6295  Tropical Storm Martin        None   \n",
       "1  EONET_6294    Tropical Storm Lisa        None   \n",
       "2  EONET_6289         Typhoon Nalgae        None   \n",
       "\n",
       "                                                link closed  \\\n",
       "0  https://eonet.gsfc.nasa.gov/api/v3/events/EONE...   None   \n",
       "1  https://eonet.gsfc.nasa.gov/api/v3/events/EONE...   None   \n",
       "2  https://eonet.gsfc.nasa.gov/api/v3/events/EONE...   None   \n",
       "\n",
       "                                          categories  \\\n",
       "0  [{'id': 'severeStorms', 'title': 'Severe Storm...   \n",
       "1  [{'id': 'severeStorms', 'title': 'Severe Storm...   \n",
       "2  [{'id': 'severeStorms', 'title': 'Severe Storm...   \n",
       "\n",
       "                                             sources  \\\n",
       "0  [{'id': 'GDACS', 'url': 'https://www.gdacs.org...   \n",
       "1  [{'id': 'GDACS', 'url': 'https://www.gdacs.org...   \n",
       "2  [{'id': 'EO', 'url': 'https://earthobservatory...   \n",
       "\n",
       "                                            geometry  \n",
       "0  [{'magnitudeValue': 45.0, 'magnitudeUnit': 'kt...  \n",
       "1  [{'magnitudeValue': 35.0, 'magnitudeUnit': 'kt...  \n",
       "2  [{'magnitudeValue': 35.0, 'magnitudeUnit': 'kt...  "
      ]
     },
     "execution_count": 135,
     "metadata": {},
     "output_type": "execute_result"
    }
   ],
   "source": [
    "\n",
    "stormEvents = events_df[events_df.categories.apply(lambda x:  x[0]['id'] == 'severeStorms')]\n",
    "stormEvents\n"
   ]
  }
 ],
 "metadata": {
  "kernelspec": {
   "display_name": "Python 3.10.8 64-bit",
   "language": "python",
   "name": "python3"
  },
  "language_info": {
   "codemirror_mode": {
    "name": "ipython",
    "version": 3
   },
   "file_extension": ".py",
   "mimetype": "text/x-python",
   "name": "python",
   "nbconvert_exporter": "python",
   "pygments_lexer": "ipython3",
   "version": "3.10.8"
  },
  "vscode": {
   "interpreter": {
    "hash": "e7370f93d1d0cde622a1f8e1c04877d8463912d04d973331ad4851f04de6915a"
   }
  }
 },
 "nbformat": 4,
 "nbformat_minor": 5
}
