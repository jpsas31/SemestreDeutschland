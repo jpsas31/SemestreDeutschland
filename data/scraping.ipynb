{
 "cells": [
  {
   "cell_type": "code",
   "execution_count": 20,
   "metadata": {},
   "outputs": [
    {
     "name": "stdout",
     "output_type": "stream",
     "text": [
      "['Programming 1', 'Introduction to Computer Science', 'Mathematics 1', 'Probability and Statistics', 'Introductory Project', 'Programming 2', 'Introduction to Computer Science 2', 'Mathematics 2', 'Algorithms for AI 1', 'Scientific Research Methods', 'Software Engineering', 'Web Technologies', 'Optimization Algorithms', 'Algorithms for AI 2', 'Data Visualization and Data Analytics', 'Database Systems and Big Data Technologies', 'Spoken and Natural Language Understanding', 'Computer Vision', 'Algorithms for AI 3', 'Seminar', 'Pre-Internship Seminar', 'Internship', 'Post-Internship Seminar', 'Cyber Security', 'Human-Computer Interaction and Explainable AI', 'Business Administration and Entrepreneurship', 'Project Management', 'Project', 'Ethics and Law', 'Elective', 'Elective', \"Bachelor's Thesis and Seminar\"]\n"
     ]
    }
   ],
   "source": [
    "import json\n",
    "data = {'a':1}\n",
    "json.dumps(data)\n",
    "\n",
    "import bs4\n",
    "import requests\n",
    "response = requests.get('https://www.thi.de/informatik/studiengaenge/computer-science-and-artificial-intelligence-bsc/')\n",
    "\n",
    "soup = bs4.BeautifulSoup(response.content,'lxml')\n",
    "content = [div.text.strip() for div in soup.find_all('div', class_='studycontent__item')]\n",
    "print(content)\n"
   ]
  },
  {
   "cell_type": "code",
   "execution_count": null,
   "metadata": {},
   "outputs": [],
   "source": [
    "import re\n"
   ]
  }
 ],
 "metadata": {
  "kernelspec": {
   "display_name": "Python 3.10.8 64-bit",
   "language": "python",
   "name": "python3"
  },
  "language_info": {
   "codemirror_mode": {
    "name": "ipython",
    "version": 3
   },
   "file_extension": ".py",
   "mimetype": "text/x-python",
   "name": "python",
   "nbconvert_exporter": "python",
   "pygments_lexer": "ipython3",
   "version": "3.10.8"
  },
  "orig_nbformat": 4,
  "vscode": {
   "interpreter": {
    "hash": "e7370f93d1d0cde622a1f8e1c04877d8463912d04d973331ad4851f04de6915a"
   }
  }
 },
 "nbformat": 4,
 "nbformat_minor": 2
}
